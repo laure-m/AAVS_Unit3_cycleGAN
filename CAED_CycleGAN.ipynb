{
  "nbformat": 4,
  "nbformat_minor": 0,
  "metadata": {
    "accelerator": "GPU",
    "colab": {
      "name": "CAED_CycleGAN.ipynb",
      "provenance": [],
      "collapsed_sections": [],
      "machine_shape": "hm",
      "include_colab_link": true
    },
    "kernelspec": {
      "display_name": "Python 3",
      "name": "python3"
    }
  },
  "cells": [
    {
      "cell_type": "markdown",
      "metadata": {
        "id": "view-in-github",
        "colab_type": "text"
      },
      "source": [
        "<a href=\"https://colab.research.google.com/github/laure-m/ColabCycleGan/blob/main/CAED_CycleGAN.ipynb\" target=\"_parent\"><img src=\"https://colab.research.google.com/assets/colab-badge.svg\" alt=\"Open In Colab\"/></a>"
      ]
    },
    {
      "cell_type": "markdown",
      "metadata": {
        "id": "ERQ-p1UQqhi7"
      },
      "source": [
        "#CAED - CYCLEGAN"
      ]
    },
    {
      "cell_type": "markdown",
      "metadata": {
        "id": "iHFOfF9XpLQB"
      },
      "source": [
        "DIRECTIONS:\n",
        "1. Please **save a copy of this to your drive** (File > Save a copy in Drive)\n",
        "2. You can only run one coLab per drive account at a time (but you can have multiple drive accounts - you just have to run the second one in incognito mode or on a diffferent computer)\n",
        "3. If you want to change something within the code I recommend adding a cell next to it with the original code commented out so that you know what was there before. \n",
        "4. This coLab is set up to run 256x256 pixel images. If you want 512x512 you need to edit the utils.py - if you dont know what this means then ignore it. "
      ]
    },
    {
      "cell_type": "markdown",
      "metadata": {
        "id": "s6abgtmtEiWs"
      },
      "source": [
        "**00:** See which GPU Google gives you"
      ]
    },
    {
      "cell_type": "code",
      "metadata": {
        "id": "BZpplB_Y1aKF"
      },
      "source": [
        "!nvidia-smi"
      ],
      "execution_count": null,
      "outputs": []
    },
    {
      "cell_type": "markdown",
      "metadata": {
        "id": "EoT0MyorfRrn"
      },
      "source": [
        "**01:** Mount your google Drive below "
      ]
    },
    {
      "cell_type": "code",
      "metadata": {
        "id": "2Iqyfozce_as"
      },
      "source": [
        "from google.colab import drive\n",
        "drive.mount('/content/drive')"
      ],
      "execution_count": null,
      "outputs": []
    },
    {
      "cell_type": "markdown",
      "metadata": {
        "id": "rUTKWAYTQOEw"
      },
      "source": [
        "**02-A: ** Only Run this **the first time** you use the script - Copy over from github the model folders - After the first time you can skip this step forever :)\n"
      ]
    },
    {
      "cell_type": "code",
      "metadata": {
        "id": "3zk2_XmWQYtF"
      },
      "source": [
        "%cd /content/drive/MyDrive\n",
        "!mkdir colabCycleGan\n",
        "%cd colabCycleGan\n",
        "!git clone https://github.com/laure-m/ColabCycleGan"
      ],
      "execution_count": null,
      "outputs": []
    },
    {
      "cell_type": "markdown",
      "metadata": {
        "id": "z8tZ1IGXfqUf"
      },
      "source": [
        "**02-B:** change to cyclegan directory "
      ]
    },
    {
      "cell_type": "code",
      "metadata": {
        "id": "KXKJe7gwfvCv"
      },
      "source": [
        "%cd /content/drive/MyDrive/colabCycleGan/ColabCycleGan/CycleGAN-tensorflow-master\n"
      ],
      "execution_count": null,
      "outputs": []
    },
    {
      "cell_type": "markdown",
      "metadata": {
        "id": "YKLvhJUfgk0A"
      },
      "source": [
        "**03**: Create a dataset folder \n"
      ]
    },
    {
      "cell_type": "code",
      "metadata": {
        "id": "u3PAi6Apgpun"
      },
      "source": [
        "!mkdir datasets"
      ],
      "execution_count": null,
      "outputs": []
    },
    {
      "cell_type": "markdown",
      "metadata": {
        "id": "JLr0ct-5gF3Y"
      },
      "source": [
        "**04:** Set Tensorflow to 1.15 "
      ]
    },
    {
      "cell_type": "code",
      "metadata": {
        "id": "EJQz21rDgKen"
      },
      "source": [
        "%tensorflow_version 1.x"
      ],
      "execution_count": null,
      "outputs": []
    },
    {
      "cell_type": "markdown",
      "metadata": {
        "id": "y96u3Cy27Fkl"
      },
      "source": [
        "#DANGER ZONE :)"
      ]
    },
    {
      "cell_type": "markdown",
      "metadata": {
        "id": "6_lOIC7MgWdo"
      },
      "source": [
        "**05 - TRAIN:** Start your train - This starts a **new train** and if you have already been training, it will overwrite anything you have done. "
      ]
    },
    {
      "cell_type": "code",
      "metadata": {
        "id": "WvwbU1rbgVUv"
      },
      "source": [
        "%cd /content/drive/MyDrive/colabCycleGan/ColabCycleGan/CycleGAN-tensorflow-master\n",
        "!python main.py --dataset_dir=site2algae"
      ],
      "execution_count": null,
      "outputs": []
    },
    {
      "cell_type": "markdown",
      "metadata": {
        "id": "ipF6rFpXgonQ"
      },
      "source": [
        "**06 - CONTINUE:** Continue training from an existing checkpoint"
      ]
    },
    {
      "cell_type": "code",
      "metadata": {
        "id": "xlRPHrmXgsyA"
      },
      "source": [
        "%cd /content/drive/MyDrive/colabCycleGan/ColabCycleGan/CycleGAN-tensorflow-master\n",
        "!python main.py --dataset_dir==seaweed1 --continue_train=true"
      ],
      "execution_count": null,
      "outputs": []
    },
    {
      "cell_type": "markdown",
      "metadata": {
        "id": "N5tdF3mQLLv3"
      },
      "source": [
        "**07 - TEST:** Test your model!"
      ]
    },
    {
      "cell_type": "code",
      "metadata": {
        "id": "78lbNJLiLOX2"
      },
      "source": [
        "%cd /content/drive/MyDrive/colabCycleGan/ColabCycleGan/CycleGAN-tensorflow-master\n",
        "!python main.py --dataset_dir==site2fes --phase=test --which_direction=AtoB"
      ],
      "execution_count": null,
      "outputs": []
    }
  ]
}