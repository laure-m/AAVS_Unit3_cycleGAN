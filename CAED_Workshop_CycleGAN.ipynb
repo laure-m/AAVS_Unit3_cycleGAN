{
  "nbformat": 4,
  "nbformat_minor": 0,
  "metadata": {
    "accelerator": "GPU",
    "colab": {
      "name": "CAED_Workshop_CycleGAN.ipynb",
      "provenance": [],
      "collapsed_sections": [],
      "machine_shape": "hm",
      "include_colab_link": true
    },
    "kernelspec": {
      "display_name": "Python 3",
      "name": "python3"
    }
  },
  "cells": [
    {
      "cell_type": "markdown",
      "metadata": {
        "id": "view-in-github",
        "colab_type": "text"
      },
      "source": [
        "<a href=\"https://colab.research.google.com/github/laure-m/ColabCycleGan/blob/main/CAED_Workshop_CycleGAN.ipynb\" target=\"_parent\"><img src=\"https://colab.research.google.com/assets/colab-badge.svg\" alt=\"Open In Colab\"/></a>"
      ]
    },
    {
      "cell_type": "markdown",
      "metadata": {
        "id": "ERQ-p1UQqhi7"
      },
      "source": [
        "#CAED WORKSHOP - THE ISLAND + THE GRID - CYCLEGAN"
      ]
    },
    {
      "cell_type": "markdown",
      "metadata": {
        "id": "iHFOfF9XpLQB"
      },
      "source": [
        "DIRECTIONS:\n",
        "1. Please **save a copy of this to your drive** (File > Save a copy in Drive)\n",
        "2. You can only run one coLab per drive account at a time (but you can have multiple drive accounts - you just have to run the second one in incognito mode or on a diffferent computer)\n",
        "3. If you want to change something within the code I recommend adding a cell next to it with the original code commented out so that you know what was there before. \n",
        "4. This coLab is set up to run 256x256 pixel images. If you want 512x512 you need to edit the utils.py - if you dont know what this means then ignore it. "
      ]
    },
    {
      "cell_type": "markdown",
      "metadata": {
        "id": "s6abgtmtEiWs"
      },
      "source": [
        "**STEP 00:** See which GPU Google gives you"
      ]
    },
    {
      "cell_type": "code",
      "metadata": {
        "id": "BZpplB_Y1aKF"
      },
      "source": [
        "!nvidia-smi"
      ],
      "execution_count": null,
      "outputs": []
    },
    {
      "cell_type": "markdown",
      "metadata": {
        "id": "EoT0MyorfRrn"
      },
      "source": [
        "**STEP 01:** Mount your google Drive below - **You need to do this each time you are starting the coLab**"
      ]
    },
    {
      "cell_type": "code",
      "metadata": {
        "id": "2Iqyfozce_as"
      },
      "source": [
        "from google.colab import drive\n",
        "drive.mount('/content/drive')"
      ],
      "execution_count": null,
      "outputs": []
    },
    {
      "cell_type": "markdown",
      "metadata": {
        "id": "rUTKWAYTQOEw"
      },
      "source": [
        "**STEP 02:** Only Run this **the first time** you use the script - Copy over from github the model folders - After the first time you can skip this step forever :)\n"
      ]
    },
    {
      "cell_type": "code",
      "metadata": {
        "id": "3zk2_XmWQYtF"
      },
      "source": [
        "%cd /content/drive/MyDrive\n",
        "!mkdir colabCycleGan\n",
        "%cd colabCycleGan\n",
        "!git clone https://github.com/laure-m/ColabCycleGan"
      ],
      "execution_count": null,
      "outputs": []
    },
    {
      "cell_type": "markdown",
      "metadata": {
        "id": "z8tZ1IGXfqUf"
      },
      "source": [
        "**STEP 03**: change to cyclegan directory **Run this Each time you open the CoLab**"
      ]
    },
    {
      "cell_type": "code",
      "metadata": {
        "id": "KXKJe7gwfvCv"
      },
      "source": [
        "%cd /content/drive/MyDrive/colabCycleGan/ColabCycleGan/CycleGAN-tensorflow-master\n"
      ],
      "execution_count": null,
      "outputs": []
    },
    {
      "cell_type": "markdown",
      "metadata": {
        "id": "YKLvhJUfgk0A"
      },
      "source": [
        "**STEP 04**: Create a dataset folder - **Only run this the first time** if you don't already have a dataset folder\n"
      ]
    },
    {
      "cell_type": "code",
      "metadata": {
        "id": "u3PAi6Apgpun"
      },
      "source": [
        "!mkdir datasets"
      ],
      "execution_count": null,
      "outputs": []
    },
    {
      "cell_type": "markdown",
      "metadata": {
        "id": "JLr0ct-5gF3Y"
      },
      "source": [
        "**STEP 05:** Set Tensorflow to 1.15 **Run this Each time you open the CoLab**"
      ]
    },
    {
      "cell_type": "code",
      "metadata": {
        "id": "EJQz21rDgKen"
      },
      "source": [
        "%tensorflow_version 1.x"
      ],
      "execution_count": null,
      "outputs": []
    },
    {
      "cell_type": "markdown",
      "metadata": {
        "id": "M10Y5N8p1ReM"
      },
      "source": [
        "Run the next cell to streamline the coLab process"
      ]
    },
    {
      "cell_type": "code",
      "metadata": {
        "id": "-KwNLpBc1Qbu"
      },
      "source": [
        "import IPython\n",
        "from google.colab import output\n",
        "\n",
        "display(IPython.display.Javascript('''\n",
        " function ClickConnect(){\n",
        "   btn = document.querySelector(\"colab-connect-button\")\n",
        "   if (btn != null){\n",
        "     console.log(\"Click colab-connect-button\"); \n",
        "     btn.click() \n",
        "     }\n",
        "   \n",
        "   btn = document.getElementById('ok')\n",
        "   if (btn != null){\n",
        "     console.log(\"Click reconnect\"); \n",
        "     btn.click() \n",
        "     }\n",
        "  }\n",
        "  \n",
        "setInterval(ClickConnect,60000)\n",
        "'''))\n",
        "\n",
        "print(\"Done.\")"
      ],
      "execution_count": null,
      "outputs": []
    },
    {
      "cell_type": "markdown",
      "metadata": {
        "id": "y96u3Cy27Fkl"
      },
      "source": [
        "#DANGER ZONE :)"
      ]
    },
    {
      "cell_type": "markdown",
      "metadata": {
        "id": "6_lOIC7MgWdo"
      },
      "source": [
        "**STEP 06:** Start your train - This starts a new train and if you have already been training, it will overwrite anything you have done. **Only run this cell  to start a new train** "
      ]
    },
    {
      "cell_type": "code",
      "metadata": {
        "id": "WvwbU1rbgVUv"
      },
      "source": [
        "!python main.py --dataset_dir=hyuk_Seoul"
      ],
      "execution_count": null,
      "outputs": []
    },
    {
      "cell_type": "markdown",
      "metadata": {
        "id": "ipF6rFpXgonQ"
      },
      "source": [
        "**STEP 07:** Continue training- **use this to restart a train from an existing checkpoint**"
      ]
    },
    {
      "cell_type": "code",
      "metadata": {
        "id": "xlRPHrmXgsyA"
      },
      "source": [
        "!python main.py --dataset_dir==hyuk_Seoul --continue_train=true"
      ],
      "execution_count": null,
      "outputs": []
    },
    {
      "cell_type": "markdown",
      "metadata": {
        "id": "N5tdF3mQLLv3"
      },
      "source": [
        "**STEP 08:** Once your network is trained - it is time to test it! **Run this cell to test your images**"
      ]
    },
    {
      "cell_type": "code",
      "metadata": {
        "id": "78lbNJLiLOX2"
      },
      "source": [
        "!python main.py --dataset_dir==hyuk_Seoul --phase=test --which_direction=AtoB"
      ],
      "execution_count": null,
      "outputs": []
    },
    {
      "cell_type": "markdown",
      "metadata": {
        "id": "u5x0MQuTowCb"
      },
      "source": [
        "This coLab is built off of one created by M. Casey Rehm at SCI-Arc and edited by Laure Michelon and is meant to be used by students in the CAED Workshop"
      ]
    }
  ]
}